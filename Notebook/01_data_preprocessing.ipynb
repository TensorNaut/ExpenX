{
 "cells": [
  {
   "cell_type": "code",
   "execution_count": 1,
   "id": "0079da22",
   "metadata": {},
   "outputs": [],
   "source": [
    "import pandas as pd\n",
    "import matplotlib.pyplot as plt\n",
    "import seaborn as sns\n",
    "import string"
   ]
  },
  {
   "cell_type": "code",
   "execution_count": null,
   "id": "a5f4d871",
   "metadata": {},
   "outputs": [],
   "source": [
    "df = pd.read_csv(\"D:/PROJECTS/Version Control/ExpenX/data/expense_categorization_dataset.csv\")"
   ]
  },
  {
   "cell_type": "code",
   "execution_count": 11,
   "id": "15176070",
   "metadata": {},
   "outputs": [
    {
     "name": "stdout",
     "output_type": "stream",
     "text": [
      "Total Records: 1070\n",
      "Null Values:\n",
      " description    0\n",
      "category       0\n",
      "dtype: int64\n",
      "Unique Categories: 10\n",
      "Categories:\n",
      " category\n",
      "Entertainment       560\n",
      "Health & Fitness    104\n",
      "Food                 89\n",
      "Maintenance          81\n",
      "Insurance            81\n",
      "Utility              61\n",
      "Payroll              36\n",
      "Rent                 33\n",
      "Benefits             13\n",
      "Subscription         12\n",
      "Name: count, dtype: int64\n"
     ]
    }
   ],
   "source": [
    "print(\"Total Records:\", len(df))\n",
    "print(\"Null Values:\\n\", df.isnull().sum())\n",
    "print(\"Unique Categories:\", df['category'].nunique())\n",
    "print(\"Categories:\\n\", df['category'].value_counts())"
   ]
  },
  {
   "cell_type": "code",
   "execution_count": 12,
   "id": "8ea5109a",
   "metadata": {},
   "outputs": [
    {
     "data": {
      "text/html": [
       "<div>\n",
       "<style scoped>\n",
       "    .dataframe tbody tr th:only-of-type {\n",
       "        vertical-align: middle;\n",
       "    }\n",
       "\n",
       "    .dataframe tbody tr th {\n",
       "        vertical-align: top;\n",
       "    }\n",
       "\n",
       "    .dataframe thead th {\n",
       "        text-align: right;\n",
       "    }\n",
       "</style>\n",
       "<table border=\"1\" class=\"dataframe\">\n",
       "  <thead>\n",
       "    <tr style=\"text-align: right;\">\n",
       "      <th></th>\n",
       "      <th>description</th>\n",
       "      <th>category</th>\n",
       "    </tr>\n",
       "  </thead>\n",
       "  <tbody>\n",
       "    <tr>\n",
       "      <th>0</th>\n",
       "      <td>Monthly rent payment</td>\n",
       "      <td>Rent</td>\n",
       "    </tr>\n",
       "    <tr>\n",
       "      <th>1</th>\n",
       "      <td>Apartment complex maintenance fee</td>\n",
       "      <td>Maintenance</td>\n",
       "    </tr>\n",
       "    <tr>\n",
       "      <th>2</th>\n",
       "      <td>Electricity bill</td>\n",
       "      <td>Utility</td>\n",
       "    </tr>\n",
       "    <tr>\n",
       "      <th>3</th>\n",
       "      <td>Groceries purchased at local market</td>\n",
       "      <td>Food</td>\n",
       "    </tr>\n",
       "    <tr>\n",
       "      <th>4</th>\n",
       "      <td>Gym membership dues</td>\n",
       "      <td>Health &amp; Fitness</td>\n",
       "    </tr>\n",
       "  </tbody>\n",
       "</table>\n",
       "</div>"
      ],
      "text/plain": [
       "                           description          category\n",
       "0                 Monthly rent payment              Rent\n",
       "1    Apartment complex maintenance fee       Maintenance\n",
       "2                     Electricity bill           Utility\n",
       "3  Groceries purchased at local market              Food\n",
       "4                  Gym membership dues  Health & Fitness"
      ]
     },
     "execution_count": 12,
     "metadata": {},
     "output_type": "execute_result"
    }
   ],
   "source": [
    "df.head()"
   ]
  },
  {
   "cell_type": "code",
   "execution_count": 2,
   "id": "a1fb58d4",
   "metadata": {},
   "outputs": [],
   "source": [
    "def clean_text(text):\n",
    "    text = text.lower()\n",
    "    text = text.translate(str.maketrans(\"\", \"\", string.punctuation))  # remove punctuation\n",
    "    text = text.strip()\n",
    "    return text"
   ]
  },
  {
   "cell_type": "code",
   "execution_count": 14,
   "id": "734173fa",
   "metadata": {},
   "outputs": [],
   "source": [
    "df['description_clean'] = df['description'].astype(str).apply(clean_text)"
   ]
  },
  {
   "cell_type": "code",
   "execution_count": 15,
   "id": "c823b8f6",
   "metadata": {},
   "outputs": [
    {
     "data": {
      "text/html": [
       "<div>\n",
       "<style scoped>\n",
       "    .dataframe tbody tr th:only-of-type {\n",
       "        vertical-align: middle;\n",
       "    }\n",
       "\n",
       "    .dataframe tbody tr th {\n",
       "        vertical-align: top;\n",
       "    }\n",
       "\n",
       "    .dataframe thead th {\n",
       "        text-align: right;\n",
       "    }\n",
       "</style>\n",
       "<table border=\"1\" class=\"dataframe\">\n",
       "  <thead>\n",
       "    <tr style=\"text-align: right;\">\n",
       "      <th></th>\n",
       "      <th>description</th>\n",
       "      <th>description_clean</th>\n",
       "      <th>category</th>\n",
       "    </tr>\n",
       "  </thead>\n",
       "  <tbody>\n",
       "    <tr>\n",
       "      <th>0</th>\n",
       "      <td>Monthly rent payment</td>\n",
       "      <td>monthly rent payment</td>\n",
       "      <td>Rent</td>\n",
       "    </tr>\n",
       "    <tr>\n",
       "      <th>1</th>\n",
       "      <td>Apartment complex maintenance fee</td>\n",
       "      <td>apartment complex maintenance fee</td>\n",
       "      <td>Maintenance</td>\n",
       "    </tr>\n",
       "    <tr>\n",
       "      <th>2</th>\n",
       "      <td>Electricity bill</td>\n",
       "      <td>electricity bill</td>\n",
       "      <td>Utility</td>\n",
       "    </tr>\n",
       "    <tr>\n",
       "      <th>3</th>\n",
       "      <td>Groceries purchased at local market</td>\n",
       "      <td>groceries purchased at local market</td>\n",
       "      <td>Food</td>\n",
       "    </tr>\n",
       "    <tr>\n",
       "      <th>4</th>\n",
       "      <td>Gym membership dues</td>\n",
       "      <td>gym membership dues</td>\n",
       "      <td>Health &amp; Fitness</td>\n",
       "    </tr>\n",
       "  </tbody>\n",
       "</table>\n",
       "</div>"
      ],
      "text/plain": [
       "                           description                    description_clean  \\\n",
       "0                 Monthly rent payment                 monthly rent payment   \n",
       "1    Apartment complex maintenance fee    apartment complex maintenance fee   \n",
       "2                     Electricity bill                     electricity bill   \n",
       "3  Groceries purchased at local market  groceries purchased at local market   \n",
       "4                  Gym membership dues                  gym membership dues   \n",
       "\n",
       "           category  \n",
       "0              Rent  \n",
       "1       Maintenance  \n",
       "2           Utility  \n",
       "3              Food  \n",
       "4  Health & Fitness  "
      ]
     },
     "execution_count": 15,
     "metadata": {},
     "output_type": "execute_result"
    }
   ],
   "source": [
    "df[['description', 'description_clean', 'category']].head()"
   ]
  },
  {
   "cell_type": "code",
   "execution_count": 16,
   "id": "5b818af8",
   "metadata": {},
   "outputs": [],
   "source": [
    "df.to_csv(\"D:/PROJECTS/Version Control/ExpenX/data/cleaned_expenses.csv\", index=False)"
   ]
  },
  {
   "cell_type": "code",
   "execution_count": 17,
   "id": "0661e4e3",
   "metadata": {},
   "outputs": [
    {
     "data": {
      "image/png": "[encoded data removed]",
      "text/plain": [
       "<Figure size 1000x500 with 1 Axes>"
      ]
     },
     "metadata": {},
     "output_type": "display_data"
    }
   ],
   "source": [
    "plt.figure(figsize=(10, 5))\n",
    "sns.countplot(data=df, y=\"category\", order=df['category'].value_counts().index)\n",
    "plt.title(\"Expense Category Distribution\")\n",
    "plt.xlabel(\"Count\")\n",
    "plt.ylabel(\"Category\")\n",
    "plt.tight_layout()\n",
    "plt.show()"
   ]
  },
  {
   "cell_type": "code",
   "execution_count": 22,
   "id": "b2ff227e",
   "metadata": {},
   "outputs": [],
   "source": [
    "import pandas as pd\n",
    "import random\n",
    "\n",
    "# Define rich template variations for each underrepresented category\n",
    "synthetic_samples = {\n",
    "    \"Benefits\": [\n",
    "        \"Provident fund employer share\",\n",
    "        \"Gratuity payment for employee retention\",\n",
    "        \"Contribution to employee pension scheme\",\n",
    "        \"Company-paid medical insurance contribution\",\n",
    "        \"Children education allowance reimbursement\",\n",
    "        \"Performance-linked bonus plan benefit\",\n",
    "        \"Leave travel concession payment\",\n",
    "        \"Employer contribution to NPS account\",\n",
    "        \"Wellness allowance credited\",\n",
    "        \"Holiday gift vouchers for staff\",\n",
    "        \"Relocation allowance paid to employee\",\n",
    "        \"Reimbursement of educational expenses\"\n",
    "        \"Employer contribution to health plan\",\n",
    "        \"Provident fund employer share\",\n",
    "        \"Retirement savings match\",\n",
    "        \"Gratuity payment\",\n",
    "        \"Medical allowance reimbursement\",\n",
    "        \"Children education allowance\",\n",
    "        \"Leave travel allowance\",\n",
    "        \"Bonus meal coupons\"\n",
    "    ],\n",
    "    \"Subscription\": [\n",
    "        \"Monthly subscription to Spotify Premium\",\n",
    "        \"Yearly payment for Adobe Creative Cloud\",\n",
    "        \"Online course subscription from Coursera\",\n",
    "        \"Monthly Kindle Unlimited subscription\",\n",
    "        \"DTH plan renewal payment\",\n",
    "        \"Amazon Prime membership fee\",\n",
    "        \"Online fitness training subscription\",\n",
    "        \"Cloud storage plan auto-renewal\",\n",
    "        \"Language learning platform fee\",\n",
    "        \"Stock trading tool subscription\",\n",
    "        \"Virtual private network (VPN) plan\",\n",
    "        \"Newsletter premium access subscription\"\n",
    "        \"Monthly Netflix subscription\",\n",
    "        \"Annual antivirus subscription\",\n",
    "        \"Online magazine subscription fee\",\n",
    "        \"Spotify family plan\",\n",
    "        \"Cloud storage plan renewal\",\n",
    "        \"Adobe software monthly fee\",\n",
    "        \"Online learning platform payment\",\n",
    "        \"Language learning app subscription\"\n",
    "    ],\n",
    "    \"Rent\": [\n",
    "        \"Monthly rent paid for apartment\",\n",
    "        \"Workspace lease fee for co-working space\",\n",
    "        \"Flat rental to property owner\",\n",
    "        \"Office rental charges paid via UPI\",\n",
    "        \"House rent through bank transfer\",\n",
    "        \"PG accommodation charges\",\n",
    "        \"Monthly lease for storage unit\",\n",
    "        \"Garage space rent transfer\",\n",
    "        \"Rental payment for commercial property\",\n",
    "        \"Villa rent settlement for July\",\n",
    "        \"Studio apartment rent auto-debited\",\n",
    "        \"Bungalow lease payment for employee housing\"\n",
    "        \"Flat rent paid to owner\",\n",
    "        \"Office space lease payment\",\n",
    "        \"Co-working space monthly rent\",\n",
    "        \"PG accommodation fee\",\n",
    "        \"Monthly house rent\",\n",
    "        \"Hostel room fee\",\n",
    "        \"Garage rent transfer\"\n",
    "    ],\n",
    "    \"Payroll\": [\n",
    "        \"Employee salary for August credited\",\n",
    "        \"Stipend disbursed to summer interns\",\n",
    "        \"Consultant fee payment\",\n",
    "        \"Contract staff wages released\",\n",
    "        \"Sales commission for Q2\",\n",
    "        \"Final settlement for resigned employee\",\n",
    "        \"Executive bonus payout\",\n",
    "        \"Freelancer payment for project work\",\n",
    "        \"Monthly salary credited to bank\",\n",
    "        \"Overtime payment for factory workers\",\n",
    "        \"Reimbursement for business travel\",\n",
    "        \"Marketing team incentive bonus\"\n",
    "        \"Employee salary for July\",\n",
    "        \"Performance bonus disbursed\",\n",
    "        \"Intern stipend credited\",\n",
    "        \"Monthly wages for workers\",\n",
    "        \"Manager salary credited\",\n",
    "        \"Sales team commission payout\"\n",
    "    ],\n",
    "    \"Utility\": [\n",
    "        \"Electricity bill payment via net banking\",\n",
    "        \"Monthly broadband service charges\",\n",
    "        \"Postpaid mobile plan renewal\",\n",
    "        \"Municipal water tax bill paid\",\n",
    "        \"Utility charges for gas cylinder refill\",\n",
    "        \"Apartment society electricity dues\",\n",
    "        \"Internet bill auto-debit\",\n",
    "        \"Landline phone service fee\",\n",
    "        \"Cable TV subscription payment\",\n",
    "        \"Electricity reconnection fee\",\n",
    "        \"Mobile plan recharge with add-on data\",\n",
    "        \"Utility payment using credit card\"\n",
    "        \"Water supply bill payment\",\n",
    "        \"Broadband service bill\",\n",
    "        \"Mobile recharge postpaid plan\",\n",
    "        \"Landline bill payment\",\n",
    "        \"Municipal water charges\",\n",
    "        \"Electricity usage bill\"\n",
    "        \"Water supply bill payment\"\n",
    "        \"Monthly electricity usage charges\"\n",
    "        \"Postpaid mobile bill\"\n",
    "        \"Gas cylinder booking and payment\"\n",
    "        \"Broadband internet monthly charge\"\n",
    "        \"DTH TV subscription recharge\"\n",
    "        \"Landline phone bill\"\n",
    "        \"Prepaid electricity recharge\"\n",
    "        \"House cleaning service charges\"\n",
    "        \"Monthly garbage disposal fee\"\n",
    "        \"Digital cable recharge\"\n",
    "        \"Electricity meter maintenance charge\"\n",
    "        \"Solar power usage adjustment\"\n",
    "        \"Mobile data top-up\"\n",
    "        \"UPI charge for utility payments\"\n",
    "    ],\n",
    "    \"Insurance\": [\n",
    "        \"Life insurance annual premium\",\n",
    "        \"Vehicle insurance policy renewal\",\n",
    "        \"Health insurance for family members\",\n",
    "        \"Two-wheeler policy premium\",\n",
    "        \"Term insurance quarterly premium\",\n",
    "        \"Personal accident insurance cover fee\",\n",
    "        \"Medical insurance top-up plan\",\n",
    "        \"Critical illness policy payment\",\n",
    "        \"Employee group insurance premium\",\n",
    "        \"Travel insurance before vacation\",\n",
    "        \"Car insurance via bank account\",\n",
    "        \"Home insurance through UPI\"\n",
    "        \"Two-wheeler insurance premium\",\n",
    "        \"Home insurance annual payment\",\n",
    "        \"Health top-up premium\",\n",
    "        \"Life insurance EMI\",\n",
    "        \"Critical illness insurance fee\"\n",
    "    ],\n",
    "    \"Maintenance\": [\n",
    "        \"Elevator maintenance service charges\",\n",
    "        \"Plumbing repairs for apartment\",\n",
    "        \"Pest control treatment charges\",\n",
    "        \"Common area cleaning maintenance fee\",\n",
    "        \"Society monthly maintenance fund\",\n",
    "        \"Generator service fee for backup power\",\n",
    "        \"Garden landscaping and upkeep charges\",\n",
    "        \"Building painting and repairs\",\n",
    "        \"Security system AMC payment\",\n",
    "        \"HVAC system check-up\",\n",
    "        \"Swimming pool maintenance fee\",\n",
    "        \"Water tank cleaning services\"\n",
    "        \"Building repair charges\",\n",
    "        \"Lift maintenance fund\",\n",
    "        \"Security system maintenance\",\n",
    "        \"Pest control service charges\",\n",
    "        \"Apartment plumbing maintenance\"\n",
    "    ],\n",
    "    \"Food\": [\n",
    "        \"Dinner at a local restaurant\",\n",
    "        \"Monthly grocery shopping at supermarket\",\n",
    "        \"Breakfast at office canteen\",\n",
    "        \"Snacks from street vendor\",\n",
    "        \"Online food delivery from Zomato\",\n",
    "        \"Beverages purchased at cafe\",\n",
    "        \"Lunch during office hours\",\n",
    "        \"Grocery items bought with UPI\",\n",
    "        \"Midnight pizza order\",\n",
    "        \"Café coffee and dessert\",\n",
    "        \"Monthly ration from grocery mart\",\n",
    "        \"Fruit and vegetable market purchase\"\n",
    "        \"Snacks from grocery store\",\n",
    "        \"Lunch at food court\",\n",
    "        \"Breakfast from café\",\n",
    "        \"Online food delivery\",\n",
    "        \"Monthly grocery stock\"\n",
    "        \"Lunch at a fast-food outlet\"\n",
    "        \"Snacks purchased at a supermarket\"\n",
    "        \"Coffee and pastries from a cafe\"\n",
    "        \"Weekly vegetable market purchase\"\n",
    "        \"Breakfast at a hotel\"\n",
    "        \"Food delivery from Swiggy\"\n",
    "        \"Restaurant bill for family dinner\"\n",
    "        \"Ordered pizza online\"\n",
    "        \"Packaged groceries from D-Mart\"\n",
    "        \"Grocery shopping at Big Bazaar\"\n",
    "        \"Fruit and dairy shopping\"\n",
    "        \"Monthly food ration\"\n",
    "        \"Items bought from a local bakery\"\n",
    "        \"Meat and fish market shopping\"\n",
    "        \"Dinner with friends at restaurant\"\n",
    "        \"Late-night snacks from Zomato\"\n",
    "        \"Takeaway biryani from local eatery\"\n",
    "        \"Sweet and dessert purchase\"\n",
    "        \"Grocery order via Amazon Fresh\"\n",
    "        \"Monthly grocery restock\"\n",
    "        \n",
    "    ]\n",
    "}"
   ]
  },
  {
   "cell_type": "code",
   "execution_count": 23,
   "id": "f1da8982",
   "metadata": {},
   "outputs": [],
   "source": [
    "# Expand to required number\n",
    "def expand_samples(category, count):\n",
    "    base = synthetic_samples[category]\n",
    "    return [{\"description\": random.choice(base), \"category\": category} for _ in range(count)]\n"
   ]
  },
  {
   "cell_type": "code",
   "execution_count": 24,
   "id": "bbffcac4",
   "metadata": {},
   "outputs": [],
   "source": [
    "# Total required\n",
    "required_counts = {\n",
    "    \"Food\": 60,\n",
    "    \"Maintenance\": 30,\n",
    "    \"Insurance\": 30,\n",
    "    \"Utility\": 50,\n",
    "    \"Payroll\": 70,\n",
    "    \"Rent\": 70,\n",
    "    \"Benefits\": 90,\n",
    "    \"Subscription\": 90\n",
    "}"
   ]
  },
  {
   "cell_type": "code",
   "execution_count": 25,
   "id": "cd10c8c0",
   "metadata": {},
   "outputs": [],
   "source": [
    "# Generate all\n",
    "synthetic_data = []\n",
    "for cat, count in required_counts.items():\n",
    "    synthetic_data.extend(expand_samples(cat, count))"
   ]
  },
  {
   "cell_type": "code",
   "execution_count": 26,
   "id": "3dac503b",
   "metadata": {},
   "outputs": [],
   "source": [
    "# Create DataFrame\n",
    "synthetic_df = pd.DataFrame(synthetic_data)"
   ]
  },
  {
   "cell_type": "code",
   "execution_count": 27,
   "id": "6d374db3",
   "metadata": {},
   "outputs": [],
   "source": [
    "# Shuffle for natural look\n",
    "synthetic_df = synthetic_df.sample(frac=1).reset_index(drop=True)"
   ]
  },
  {
   "cell_type": "code",
   "execution_count": 29,
   "id": "3f85e2ce",
   "metadata": {},
   "outputs": [
    {
     "data": {
      "text/html": [
       "<div>\n",
       "<style scoped>\n",
       "    .dataframe tbody tr th:only-of-type {\n",
       "        vertical-align: middle;\n",
       "    }\n",
       "\n",
       "    .dataframe tbody tr th {\n",
       "        vertical-align: top;\n",
       "    }\n",
       "\n",
       "    .dataframe thead th {\n",
       "        text-align: right;\n",
       "    }\n",
       "</style>\n",
       "<table border=\"1\" class=\"dataframe\">\n",
       "  <thead>\n",
       "    <tr style=\"text-align: right;\">\n",
       "      <th></th>\n",
       "      <th>description</th>\n",
       "      <th>category</th>\n",
       "    </tr>\n",
       "  </thead>\n",
       "  <tbody>\n",
       "    <tr>\n",
       "      <th>0</th>\n",
       "      <td>Annual antivirus subscription</td>\n",
       "      <td>Subscription</td>\n",
       "    </tr>\n",
       "    <tr>\n",
       "      <th>1</th>\n",
       "      <td>Studio apartment rent auto-debited</td>\n",
       "      <td>Rent</td>\n",
       "    </tr>\n",
       "    <tr>\n",
       "      <th>2</th>\n",
       "      <td>Two-wheeler policy premium</td>\n",
       "      <td>Insurance</td>\n",
       "    </tr>\n",
       "    <tr>\n",
       "      <th>3</th>\n",
       "      <td>Personal accident insurance cover fee</td>\n",
       "      <td>Insurance</td>\n",
       "    </tr>\n",
       "    <tr>\n",
       "      <th>4</th>\n",
       "      <td>Online food delivery from Zomato</td>\n",
       "      <td>Food</td>\n",
       "    </tr>\n",
       "  </tbody>\n",
       "</table>\n",
       "</div>"
      ],
      "text/plain": [
       "                             description      category\n",
       "0          Annual antivirus subscription  Subscription\n",
       "1     Studio apartment rent auto-debited          Rent\n",
       "2             Two-wheeler policy premium     Insurance\n",
       "3  Personal accident insurance cover fee     Insurance\n",
       "4       Online food delivery from Zomato          Food"
      ]
     },
     "execution_count": 29,
     "metadata": {},
     "output_type": "execute_result"
    }
   ],
   "source": [
    "# Save or merge\n",
    "synthetic_df.to_csv(\"D:/PROJECTS/Version Control/ExpenX/data/synthetic_expenses.csv\", index=False)\n",
    "synthetic_df.head()"
   ]
  },
  {
   "cell_type": "code",
   "execution_count": 9,
   "id": "015ab081",
   "metadata": {},
   "outputs": [
    {
     "name": "stdout",
     "output_type": "stream",
     "text": [
      "Final Category Distribution:\n",
      "category\n",
      "Entertainment       560\n",
      "Food                149\n",
      "Utility             111\n",
      "Insurance           111\n",
      "Maintenance         111\n",
      "Payroll             106\n",
      "Health & Fitness    104\n",
      "Benefits            103\n",
      "Rent                103\n",
      "Subscription        102\n",
      "Name: count, dtype: int64\n"
     ]
    },
    {
     "data": {
      "text/html": [
       "<div>\n",
       "<style scoped>\n",
       "    .dataframe tbody tr th:only-of-type {\n",
       "        vertical-align: middle;\n",
       "    }\n",
       "\n",
       "    .dataframe tbody tr th {\n",
       "        vertical-align: top;\n",
       "    }\n",
       "\n",
       "    .dataframe thead th {\n",
       "        text-align: right;\n",
       "    }\n",
       "</style>\n",
       "<table border=\"1\" class=\"dataframe\">\n",
       "  <thead>\n",
       "    <tr style=\"text-align: right;\">\n",
       "      <th></th>\n",
       "      <th>description</th>\n",
       "      <th>category</th>\n",
       "    </tr>\n",
       "  </thead>\n",
       "  <tbody>\n",
       "    <tr>\n",
       "      <th>0</th>\n",
       "      <td>Final settlement for resigned employee</td>\n",
       "      <td>Payroll</td>\n",
       "    </tr>\n",
       "    <tr>\n",
       "      <th>1</th>\n",
       "      <td>Live music events</td>\n",
       "      <td>Entertainment</td>\n",
       "    </tr>\n",
       "    <tr>\n",
       "      <th>2</th>\n",
       "      <td>Amazon Prime membership fee</td>\n",
       "      <td>Subscription</td>\n",
       "    </tr>\n",
       "    <tr>\n",
       "      <th>3</th>\n",
       "      <td>Health insurance premium</td>\n",
       "      <td>Insurance</td>\n",
       "    </tr>\n",
       "    <tr>\n",
       "      <th>4</th>\n",
       "      <td>Beverage</td>\n",
       "      <td>Food</td>\n",
       "    </tr>\n",
       "  </tbody>\n",
       "</table>\n",
       "</div>"
      ],
      "text/plain": [
       "                              description       category\n",
       "0  Final settlement for resigned employee        Payroll\n",
       "1                       Live music events  Entertainment\n",
       "2             Amazon Prime membership fee   Subscription\n",
       "3                Health insurance premium      Insurance\n",
       "4                                Beverage           Food"
      ]
     },
     "execution_count": 9,
     "metadata": {},
     "output_type": "execute_result"
    }
   ],
   "source": [
    "import pandas as pd\n",
    "\n",
    "cleaned_df = pd.read_csv(\"D:/PROJECTS/Version Control/ExpenX/data/expense_categorization_dataset.csv\")\n",
    "synthetic_df = pd.read_csv(\"D:/PROJECTS/Version Control/ExpenX/data/synthetic_expenses.csv\")\n",
    "\n",
    "merged_df = pd.concat([cleaned_df, synthetic_df], ignore_index=True)\n",
    "merged_df = merged_df.sample(frac=1).reset_index(drop=True)\n",
    "\n",
    "print(\"Final Category Distribution:\")\n",
    "print(merged_df['category'].value_counts())\n",
    "\n",
    "merged_df.to_csv(\"D:/PROJECTS/Version Control/ExpenX/data/final_expense_dataset.csv\", index=False)\n",
    "merged_df.head()"
   ]
  },
  {
   "cell_type": "code",
   "execution_count": 10,
   "id": "a5109407",
   "metadata": {},
   "outputs": [
    {
     "name": "stdout",
     "output_type": "stream",
     "text": [
      "Total Records: 1560\n",
      "Null Values:\n",
      " description    0\n",
      "category       0\n",
      "dtype: int64\n",
      "Unique Categories: 10\n",
      "Categories:\n",
      " category\n",
      "Entertainment       560\n",
      "Food                149\n",
      "Utility             111\n",
      "Insurance           111\n",
      "Maintenance         111\n",
      "Payroll             106\n",
      "Health & Fitness    104\n",
      "Benefits            103\n",
      "Rent                103\n",
      "Subscription        102\n",
      "Name: count, dtype: int64\n"
     ]
    }
   ],
   "source": [
    "print(\"Total Records:\", len(merged_df))\n",
    "print(\"Null Values:\\n\", merged_df.isnull().sum())\n",
    "print(\"Unique Categories:\", merged_df['category'].nunique())\n",
    "print(\"Categories:\\n\", merged_df['category'].value_counts())"
   ]
  },
  {
   "cell_type": "code",
   "execution_count": 11,
   "id": "e90bff3f",
   "metadata": {},
   "outputs": [],
   "source": [
    "df = pd.read_csv(\"D:/PROJECTS/Version Control/ExpenX/data/final_expense_dataset.csv\")"
   ]
  },
  {
   "cell_type": "code",
   "execution_count": 12,
   "id": "13fbf01c",
   "metadata": {},
   "outputs": [],
   "source": [
    "df['description_clean'] = df['description'].astype(str).apply(clean_text)"
   ]
  },
  {
   "cell_type": "code",
   "execution_count": 13,
   "id": "1c5d20cd",
   "metadata": {},
   "outputs": [
    {
     "data": {
      "text/html": [
       "<div>\n",
       "<style scoped>\n",
       "    .dataframe tbody tr th:only-of-type {\n",
       "        vertical-align: middle;\n",
       "    }\n",
       "\n",
       "    .dataframe tbody tr th {\n",
       "        vertical-align: top;\n",
       "    }\n",
       "\n",
       "    .dataframe thead th {\n",
       "        text-align: right;\n",
       "    }\n",
       "</style>\n",
       "<table border=\"1\" class=\"dataframe\">\n",
       "  <thead>\n",
       "    <tr style=\"text-align: right;\">\n",
       "      <th></th>\n",
       "      <th>description</th>\n",
       "      <th>description_clean</th>\n",
       "      <th>category</th>\n",
       "    </tr>\n",
       "  </thead>\n",
       "  <tbody>\n",
       "    <tr>\n",
       "      <th>0</th>\n",
       "      <td>Final settlement for resigned employee</td>\n",
       "      <td>final settlement for resigned employee</td>\n",
       "      <td>Payroll</td>\n",
       "    </tr>\n",
       "    <tr>\n",
       "      <th>1</th>\n",
       "      <td>Live music events</td>\n",
       "      <td>live music events</td>\n",
       "      <td>Entertainment</td>\n",
       "    </tr>\n",
       "    <tr>\n",
       "      <th>2</th>\n",
       "      <td>Amazon Prime membership fee</td>\n",
       "      <td>amazon prime membership fee</td>\n",
       "      <td>Subscription</td>\n",
       "    </tr>\n",
       "    <tr>\n",
       "      <th>3</th>\n",
       "      <td>Health insurance premium</td>\n",
       "      <td>health insurance premium</td>\n",
       "      <td>Insurance</td>\n",
       "    </tr>\n",
       "    <tr>\n",
       "      <th>4</th>\n",
       "      <td>Beverage</td>\n",
       "      <td>beverage</td>\n",
       "      <td>Food</td>\n",
       "    </tr>\n",
       "  </tbody>\n",
       "</table>\n",
       "</div>"
      ],
      "text/plain": [
       "                              description  \\\n",
       "0  Final settlement for resigned employee   \n",
       "1                       Live music events   \n",
       "2             Amazon Prime membership fee   \n",
       "3                Health insurance premium   \n",
       "4                                Beverage   \n",
       "\n",
       "                        description_clean       category  \n",
       "0  final settlement for resigned employee        Payroll  \n",
       "1                       live music events  Entertainment  \n",
       "2             amazon prime membership fee   Subscription  \n",
       "3                health insurance premium      Insurance  \n",
       "4                                beverage           Food  "
      ]
     },
     "execution_count": 13,
     "metadata": {},
     "output_type": "execute_result"
    }
   ],
   "source": [
    "df[['description', 'description_clean', 'category']].head()"
   ]
  },
  {
   "cell_type": "code",
   "execution_count": 14,
   "id": "f70bb2c1",
   "metadata": {},
   "outputs": [],
   "source": [
    "df.to_csv(\"D:/PROJECTS/Version Control/ExpenX/data/final_cleaned_expenses.csv\", index=False)"
   ]
  },
  {
   "cell_type": "code",
   "execution_count": 15,
   "id": "b05820ec",
   "metadata": {},
   "outputs": [
    {
     "data": {
      "image/png": "[encoded data removed]",
      "text/plain": [
       "<Figure size 1200x800 with 1 Axes>"
      ]
     },
     "metadata": {},
     "output_type": "display_data"
    }
   ],
   "source": [
    "plt.figure(figsize=(12, 8))\n",
    "sns.countplot(data=df, y=\"category\", order=df['category'].value_counts().index)\n",
    "plt.title(\"Expense Category Distribution\")\n",
    "plt.xlabel(\"Count\")\n",
    "plt.ylabel(\"Category\")\n",
    "plt.tight_layout()\n",
    "plt.show()"
   ]
  },
  {
   "cell_type": "code",
   "execution_count": 16,
   "id": "0205a51e",
   "metadata": {},
   "outputs": [],
   "source": [
    "df['description_clean'] = df['description'].astype(str).apply(clean_text)"
   ]
  },
  {
   "cell_type": "code",
   "execution_count": null,
   "id": "8552d5e9",
   "metadata": {},
   "outputs": [],
   "source": []
  },
  {
   "cell_type": "markdown",
   "id": "b0c235a2",
   "metadata": {},
   "source": [
    "## New DataSet"
   ]
  },
  {
   "cell_type": "code",
   "execution_count": 1,
   "id": "22e858e2",
   "metadata": {},
   "outputs": [],
   "source": [
    "import pandas as pd\n",
    "import matplotlib.pyplot as plt\n",
    "import seaborn as sns\n",
    "import string"
   ]
  },
  {
   "cell_type": "code",
   "execution_count": 5,
   "id": "47d08ff3",
   "metadata": {},
   "outputs": [],
   "source": [
    "df = pd.read_csv(\"D:/PROJECTS/Version Control/ExpenX/data/new_expense_dataset.csv\")"
   ]
  },
  {
   "cell_type": "code",
   "execution_count": 6,
   "id": "7f068ae3",
   "metadata": {},
   "outputs": [
    {
     "name": "stdout",
     "output_type": "stream",
     "text": [
      "Total Records: 2942\n",
      "Null Values:\n",
      " description    0\n",
      "category       0\n",
      "dtype: int64\n",
      "Unique Categories: 18\n",
      "Categories:\n",
      " category\n",
      "Entertainment           563\n",
      "Miscellaneous           225\n",
      "Food                    200\n",
      "Utility                 162\n",
      "Travel & Transport      155\n",
      "Health & Fitness        154\n",
      "Groceries               149\n",
      "Investment & Savings    147\n",
      "Shopping                145\n",
      "Personal Care           136\n",
      "EMI/Loans               128\n",
      "Education               125\n",
      "Insurance               114\n",
      "Maintenance             113\n",
      "Payroll                 109\n",
      "Benefits                106\n",
      "Rent                    106\n",
      "Subscription            105\n",
      "Name: count, dtype: int64\n"
     ]
    }
   ],
   "source": [
    "print(\"Total Records:\", len(df))\n",
    "print(\"Null Values:\\n\", df.isnull().sum())\n",
    "print(\"Unique Categories:\", df['category'].nunique())\n",
    "print(\"Categories:\\n\", df['category'].value_counts())"
   ]
  },
  {
   "cell_type": "code",
   "execution_count": 7,
   "id": "1abedadb",
   "metadata": {},
   "outputs": [
    {
     "data": {
      "text/html": [
       "<div>\n",
       "<style scoped>\n",
       "    .dataframe tbody tr th:only-of-type {\n",
       "        vertical-align: middle;\n",
       "    }\n",
       "\n",
       "    .dataframe tbody tr th {\n",
       "        vertical-align: top;\n",
       "    }\n",
       "\n",
       "    .dataframe thead th {\n",
       "        text-align: right;\n",
       "    }\n",
       "</style>\n",
       "<table border=\"1\" class=\"dataframe\">\n",
       "  <thead>\n",
       "    <tr style=\"text-align: right;\">\n",
       "      <th></th>\n",
       "      <th>description</th>\n",
       "      <th>category</th>\n",
       "    </tr>\n",
       "  </thead>\n",
       "  <tbody>\n",
       "    <tr>\n",
       "      <th>0</th>\n",
       "      <td>Final settlement for resigned employee</td>\n",
       "      <td>Payroll</td>\n",
       "    </tr>\n",
       "    <tr>\n",
       "      <th>1</th>\n",
       "      <td>Live music events</td>\n",
       "      <td>Entertainment</td>\n",
       "    </tr>\n",
       "    <tr>\n",
       "      <th>2</th>\n",
       "      <td>Amazon Prime membership fee</td>\n",
       "      <td>Subscription</td>\n",
       "    </tr>\n",
       "    <tr>\n",
       "      <th>3</th>\n",
       "      <td>Health insurance premium</td>\n",
       "      <td>Insurance</td>\n",
       "    </tr>\n",
       "    <tr>\n",
       "      <th>4</th>\n",
       "      <td>Beverage</td>\n",
       "      <td>Food</td>\n",
       "    </tr>\n",
       "  </tbody>\n",
       "</table>\n",
       "</div>"
      ],
      "text/plain": [
       "                              description       category\n",
       "0  Final settlement for resigned employee        Payroll\n",
       "1                       Live music events  Entertainment\n",
       "2             Amazon Prime membership fee   Subscription\n",
       "3                Health insurance premium      Insurance\n",
       "4                                Beverage           Food"
      ]
     },
     "execution_count": 7,
     "metadata": {},
     "output_type": "execute_result"
    }
   ],
   "source": [
    "df.head()"
   ]
  },
  {
   "cell_type": "code",
   "execution_count": 8,
   "id": "0f060c68",
   "metadata": {},
   "outputs": [
    {
     "data": {
      "image/png": "[encoded data removed]",
      "text/plain": [
       "<Figure size 1000x500 with 1 Axes>"
      ]
     },
     "metadata": {},
     "output_type": "display_data"
    }
   ],
   "source": [
    "plt.figure(figsize=(10, 5))\n",
    "sns.countplot(data=df, y=\"category\", order=df['category'].value_counts().index)\n",
    "plt.title(\"Expense Category Distribution\")\n",
    "plt.xlabel(\"Count\")\n",
    "plt.ylabel(\"Category\")\n",
    "plt.tight_layout()\n",
    "plt.show()"
   ]
  },
  {
   "cell_type": "code",
   "execution_count": null,
   "id": "c52127d7",
   "metadata": {},
   "outputs": [],
   "source": []
  }
 ],
 "metadata": {
  "kernelspec": {
   "display_name": "venv",
   "language": "python",
   "name": "python3"
  },
  "language_info": {
   "codemirror_mode": {
    "name": "ipython",
    "version": 3
   },
   "file_extension": ".py",
   "mimetype": "text/x-python",
   "name": "python",
   "nbconvert_exporter": "python",
   "pygments_lexer": "ipython3",
   "version": "3.11.0"
  }
 },
 "nbformat": 4,
 "nbformat_minor": 5
}
